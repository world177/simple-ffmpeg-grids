{
  "cells": [
    {
      "cell_type": "markdown",
      "metadata": {
        "id": "_o83ntt8i-nI"
      },
      "source": [
        "## A python file to quickly generate simple FFmpeg grids. \n",
        "\n",
        "In the example below, the FFmpeg command it generates will be 3x3 grid with files named in the following format. Just edit the forms to quickly set your desired format.\n",
        "\n",
        "### Output example format\n",
        "\n",
        "| column #1  |  column #2       |  column #3|\n",
        "|----------|:-------------|:------|\n",
        "| 0.mp4 |  1.mp4 | 2.mp4 |\n",
        "| 3.mp4 |    4.mp4   |  5.mp4 |\n",
        "| 6.mp4 | 7.mp4 | 8.mp4 |\n",
        "\n",
        "\n",
        "There is a filter script that will also be generated with the file specified from the inputs. This is generated because with increasingly large inputs, the command for the console will be too large. This fixes that problem. You will need to move this script to the same directory that the FFmpeg command is ran from in the terminal.\n",
        "\n",
        "### Example of 100 videos in a 10x10 grid\n",
        "[link to video](https://youtu.be/CWhya8R--UI)\n",
        "\n",
        "[![co.png](https://i.imgur.com/c294lSN.png)](https://www.youtube.com/watch?v=CWhya8R--UI)"
      ]
    },
    {
      "cell_type": "code",
      "execution_count": 1,
      "metadata": {
        "colab": {
          "base_uri": "https://localhost:8080/",
          "height": 55
        },
        "id": "THutXQ2iipA1",
        "outputId": "d8eaa690-d83d-4114-e119-e6bc497eb0e7"
      },
      "outputs": [
        {
          "output_type": "display_data",
          "data": {
            "text/plain": [
              "<IPython.core.display.Javascript object>"
            ],
            "application/javascript": [
              "\n",
              "    async function download(id, filename, size) {\n",
              "      if (!google.colab.kernel.accessAllowed) {\n",
              "        return;\n",
              "      }\n",
              "      const div = document.createElement('div');\n",
              "      const label = document.createElement('label');\n",
              "      label.textContent = `Downloading \"${filename}\": `;\n",
              "      div.appendChild(label);\n",
              "      const progress = document.createElement('progress');\n",
              "      progress.max = size;\n",
              "      div.appendChild(progress);\n",
              "      document.body.appendChild(div);\n",
              "\n",
              "      const buffers = [];\n",
              "      let downloaded = 0;\n",
              "\n",
              "      const channel = await google.colab.kernel.comms.open(id);\n",
              "      // Send a message to notify the kernel that we're ready.\n",
              "      channel.send({})\n",
              "\n",
              "      for await (const message of channel.messages) {\n",
              "        // Send a message to notify the kernel that we're ready.\n",
              "        channel.send({})\n",
              "        if (message.buffers) {\n",
              "          for (const buffer of message.buffers) {\n",
              "            buffers.push(buffer);\n",
              "            downloaded += buffer.byteLength;\n",
              "            progress.value = downloaded;\n",
              "          }\n",
              "        }\n",
              "      }\n",
              "      const blob = new Blob(buffers, {type: 'application/binary'});\n",
              "      const a = document.createElement('a');\n",
              "      a.href = window.URL.createObjectURL(blob);\n",
              "      a.download = filename;\n",
              "      div.appendChild(a);\n",
              "      a.click();\n",
              "      div.remove();\n",
              "    }\n",
              "  "
            ]
          },
          "metadata": {}
        },
        {
          "output_type": "display_data",
          "data": {
            "text/plain": [
              "<IPython.core.display.Javascript object>"
            ],
            "application/javascript": [
              "download(\"download_36605eac-66b6-4b1f-8537-4323579a82ce\", \"filter_script.txt\", 11612)"
            ]
          },
          "metadata": {}
        },
        {
          "output_type": "stream",
          "name": "stdout",
          "text": [
            "ffmpeg  -i 0.mp4  -i 1.mp4  -i 2.mp4  -i 3.mp4  -i 4.mp4  -i 5.mp4  -i 6.mp4  -i 7.mp4  -i 8.mp4  -i 9.mp4  -i 10.mp4  -i 11.mp4  -i 12.mp4  -i 13.mp4  -i 14.mp4  -i 15.mp4  -i 16.mp4  -i 17.mp4  -i 18.mp4  -i 19.mp4  -i 20.mp4  -i 21.mp4  -i 22.mp4  -i 23.mp4  -i 24.mp4  -i 25.mp4  -i 26.mp4  -i 27.mp4  -i 28.mp4  -i 29.mp4  -i 30.mp4  -i 31.mp4  -i 32.mp4  -i 33.mp4  -i 34.mp4  -i 35.mp4  -i 36.mp4  -i 37.mp4  -i 38.mp4  -i 39.mp4  -i 40.mp4  -i 41.mp4  -i 42.mp4  -i 43.mp4  -i 44.mp4  -i 45.mp4  -i 46.mp4  -i 47.mp4  -i 48.mp4  -i 49.mp4  -i 50.mp4  -i 51.mp4  -i 52.mp4  -i 53.mp4  -i 54.mp4  -i 55.mp4  -i 56.mp4  -i 57.mp4  -i 58.mp4  -i 59.mp4  -i 60.mp4  -i 61.mp4  -i 62.mp4  -i 63.mp4  -i 64.mp4  -i 65.mp4  -i 66.mp4  -i 67.mp4  -i 68.mp4  -i 69.mp4  -i 70.mp4  -i 71.mp4  -i 72.mp4  -i 73.mp4  -i 74.mp4  -i 75.mp4  -i 76.mp4  -i 77.mp4  -i 78.mp4  -i 79.mp4  -i 80.mp4  -i 81.mp4  -i 82.mp4  -i 83.mp4  -i 84.mp4  -i 85.mp4  -i 86.mp4  -i 87.mp4  -i 88.mp4  -i 89.mp4  -i 90.mp4  -i 91.mp4  -i 92.mp4  -i 93.mp4  -i 94.mp4  -i 95.mp4  -i 96.mp4  -i 97.mp4  -i 98.mp4  -i 99.mp4  -filter_complex_script \"filter_script.txt\"  -c:v libx264 out.mp4\n"
          ]
        }
      ],
      "source": [
        "#@title Inputs for script\n",
        "amount_of_items_in_grid =  100#@param {type:\"integer\"}\n",
        "filetype_of_items = \"mp4\" #@param {type:\"string\"}\n",
        "amount_of_columns_on_the_horizontal_axis =  10#@param {type:\"integer\"}\n",
        "amount_of_rows_on_the_vertical_axis =  10#@param {type:\"integer\"}\n",
        "size_of_each_video_on_x_axis =  108#@param {type:\"integer\"}\n",
        "size_of_each_video_on_y_axis =  108#@param {type:\"integer\"}\n",
        "file_to_save_the_filter_for_the_command = \"filter_script.txt\" #@param {type:\"string\"}\n",
        "output_file_name = \"out.mp4\" #@param {type:\"string\"}\n",
        "\n",
        "import math\n",
        "from google.colab import files\n",
        "\n",
        "def createCommand(inputAmount, videoFileFormat, gridX, gridY, newVidSizeX, newVidSizeY, filterFile, outFile):\n",
        "    \n",
        "    # inputs are formatted here for the command\n",
        "    def createVideoInputs(toAmount, fileFormat):\n",
        "        temp = \"\"\n",
        "        \n",
        "        for i in range(toAmount):\n",
        "            temp += \" -i \" + str(i) + \".\" + fileFormat + \" \"\n",
        "        \n",
        "        return temp\n",
        "     \n",
        "    def createFilter(inputAmount, gridX, gridY, newVidSizeX, newVidSizeY, filterFile):\n",
        "    \n",
        "        filterBaseArg = \" -filter_complex_script \"\n",
        "    \n",
        "        # the resolution is determined by the size of the videos\n",
        "        def defineBase(finalVideoX, finalVideoY, clipsOnX, clipsOnY):\n",
        "            return \" nullsrc=size=\" + str(finalVideoX * clipsOnX) + \"x\" + str(finalVideoY * clipsOnY) + \" [base]; \"\n",
        "\n",
        "        def tagInputs(toAmount, x, y):\n",
        "            \n",
        "            inputs = \"\"\n",
        "            \n",
        "            for i in range(0, toAmount):\n",
        "                inputs += \" [\" + str(i) + \":v] \"\n",
        "                inputs += \" setpts=PTS-STARTPTS, \"\n",
        "                inputs += \" scale=\" + str(x) + \"x\" + str(y) + \" \" \n",
        "                inputs += \" [clip\" + str(i) + \"]; \"\n",
        "            \n",
        "            return inputs\n",
        "\n",
        "\n",
        "        def createVideoOverlays(toAmount, gridX, gridY, vidX, vidY):\n",
        "            \n",
        "            overlays = \" [base][clip0] overlay=shortest=1 [temp1]; \"\n",
        "            \n",
        "            top = 0\n",
        "            left = 1\n",
        "            \n",
        "            for i in range(1, toAmount):\n",
        "            \n",
        "                if(left == gridX):\n",
        "                    left = 0\n",
        "                    top += 1\n",
        "            \n",
        "                overlays += \"[temp\" + str(i) + \"][clip\" + str(i) + \"] overlay=shortest=1\"\n",
        "                overlays += (\":x = \" + str(left * vidX)) if left > 0 else \"\"\n",
        "                overlays += (\":y = \" + str(top * vidY)) if top > 0 else \"\"\n",
        "                overlays += \" [temp\" + str(i + 1) + \"]; \" if i != (toAmount - 1) else \"\"\n",
        "                \n",
        "                left += 1\n",
        "                \n",
        "            return overlays\n",
        "            \n",
        "        \n",
        "        tempFile = open(filterFile, \"w\")\n",
        "        \n",
        "        tempFile.write(defineBase(newVidSizeX, newVidSizeY, gridX, gridY) + tagInputs(inputAmount, newVidSizeX, newVidSizeY) + createVideoOverlays(inputAmount, gridX, gridY, newVidSizeX, newVidSizeY))\n",
        "\n",
        "        tempFile.flush()\n",
        "        tempFile.close()\n",
        "        \n",
        "        files.download(filterFile) \n",
        "\n",
        "        return filterBaseArg + \"\\\"\" + filterFile + \"\\\" \"\n",
        "    \n",
        "    def createOutput(outFile):\n",
        "        return \" -c:v libx264 \" + outFile\n",
        "\n",
        "    \n",
        "    return \"ffmpeg \" + createVideoInputs(inputAmount, videoFileFormat) + createFilter(inputAmount, gridX, gridY, newVidSizeX, newVidSizeY, filterFile) + createOutput(outFile)\n",
        "\n",
        "\n",
        "# amount of items in grid\n",
        "# filetype of items\n",
        "# amount of columns on the horizontal axis\n",
        "# amount of rows on the vertical axis\n",
        "# size of each video - x-axis\n",
        "# size of each video - y-axis\n",
        "# file to save the filter for the command\n",
        "# output file name\n",
        "print(createCommand(amount_of_items_in_grid, filetype_of_items, amount_of_columns_on_the_horizontal_axis, amount_of_rows_on_the_vertical_axis, size_of_each_video_on_x_axis, size_of_each_video_on_y_axis, file_to_save_the_filter_for_the_command, output_file_name))\n"
      ]
    }
  ],
  "metadata": {
    "colab": {
      "collapsed_sections": [],
      "name": "generate_grids.ipynb",
      "provenance": []
    },
    "kernelspec": {
      "display_name": "Python 3",
      "name": "python3"
    },
    "language_info": {
      "name": "python"
    }
  },
  "nbformat": 4,
  "nbformat_minor": 0
}