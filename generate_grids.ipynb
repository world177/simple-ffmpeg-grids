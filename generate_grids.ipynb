{
  "nbformat": 4,
  "nbformat_minor": 0,
  "metadata": {
    "colab": {
      "name": "generate_grids.ipynb",
      "provenance": [],
      "collapsed_sections": []
    },
    "kernelspec": {
      "name": "python3",
      "display_name": "Python 3"
    },
    "language_info": {
      "name": "python"
    }
  },
  "cells": [
    {
      "cell_type": "markdown",
      "source": [
        "## A python file to quickly generate simple FFmpeg grids. \n",
        "\n",
        "In the example below, the FFmpeg command it generates will be 3x3 grid with files named in the following format. Just edit the forms to quickly set your desired format.\n",
        "\n",
        "### Output example format\n",
        "\n",
        "| column #1  |  column #2       |  column #3|\n",
        "|----------|:-------------|:------|\n",
        "| 0.mp4 |  1.mp4 | 2.mp4 |\n",
        "| 3.mp4 |    4.mp4   |  5.mp4 |\n",
        "| 6.mp4 | 7.mp4 | 8.mp4 |\n",
        "\n",
        "\n",
        "There is a filter script that will also be generated with the file specified from the inputs. This is generated because with increasingly large inputs, the command for the console will be too large. This fixes that problem. You will need to move this script to the same directory that the FFmpeg command is ran from in the terminal.\n",
        "\n",
        "### Example of 100 videos in a 10x10 grid\n",
        "[link to video](https://youtu.be/CWhya8R--UI)\n",
        "\n",
        "[![co.png](https://i.imgur.com/c294lSN.png)](https://www.youtube.com/watch?v=CWhya8R--UI)"
      ],
      "metadata": {
        "id": "_o83ntt8i-nI"
      }
    },
    {
      "cell_type": "code",
      "execution_count": 10,
      "metadata": {
        "colab": {
          "base_uri": "https://localhost:8080/",
          "height": 34
        },
        "cellView": "form",
        "id": "THutXQ2iipA1",
        "outputId": "cc436315-e236-483a-f8a5-b1389279cd86"
      },
      "outputs": [
        {
          "output_type": "display_data",
          "data": {
            "application/javascript": [
              "\n",
              "    async function download(id, filename, size) {\n",
              "      if (!google.colab.kernel.accessAllowed) {\n",
              "        return;\n",
              "      }\n",
              "      const div = document.createElement('div');\n",
              "      const label = document.createElement('label');\n",
              "      label.textContent = `Downloading \"${filename}\": `;\n",
              "      div.appendChild(label);\n",
              "      const progress = document.createElement('progress');\n",
              "      progress.max = size;\n",
              "      div.appendChild(progress);\n",
              "      document.body.appendChild(div);\n",
              "\n",
              "      const buffers = [];\n",
              "      let downloaded = 0;\n",
              "\n",
              "      const channel = await google.colab.kernel.comms.open(id);\n",
              "      // Send a message to notify the kernel that we're ready.\n",
              "      channel.send({})\n",
              "\n",
              "      for await (const message of channel.messages) {\n",
              "        // Send a message to notify the kernel that we're ready.\n",
              "        channel.send({})\n",
              "        if (message.buffers) {\n",
              "          for (const buffer of message.buffers) {\n",
              "            buffers.push(buffer);\n",
              "            downloaded += buffer.byteLength;\n",
              "            progress.value = downloaded;\n",
              "          }\n",
              "        }\n",
              "      }\n",
              "      const blob = new Blob(buffers, {type: 'application/binary'});\n",
              "      const a = document.createElement('a');\n",
              "      a.href = window.URL.createObjectURL(blob);\n",
              "      a.download = filename;\n",
              "      div.appendChild(a);\n",
              "      a.click();\n",
              "      div.remove();\n",
              "    }\n",
              "  "
            ],
            "text/plain": [
              "<IPython.core.display.Javascript object>"
            ]
          },
          "metadata": {}
        },
        {
          "output_type": "display_data",
          "data": {
            "application/javascript": [
              "download(\"download_8e8c38fe-733d-4a0a-8824-0041cd794369\", \"filter_script.txt\", 991)"
            ],
            "text/plain": [
              "<IPython.core.display.Javascript object>"
            ]
          },
          "metadata": {}
        },
        {
          "output_type": "stream",
          "name": "stdout",
          "text": [
            "ffmpeg  -i 0.mp4  -i 1.mp4  -i 2.mp4  -i 3.mp4  -i 4.mp4  -i 5.mp4  -i 6.mp4  -i 7.mp4  -i 8.mp4  -filter_complex_script \"filter_script.txt\"  -c:v libx264 out.mp4\n"
          ]
        }
      ],
      "source": [
        "#@title Inputs for script\n",
        "amount_of_items_in_grid =  9#@param {type:\"integer\"}\n",
        "filetype_of_items = \"mp4\" #@param {type:\"string\"}\n",
        "amount_of_columns_on_the_horizontal_axis =  3#@param {type:\"integer\"}\n",
        "amount_of_rows_on_the_vertical_axis =  3#@param {type:\"integer\"}\n",
        "size_of_each_video_on_x_axis =  360#@param {type:\"integer\"}\n",
        "size_of_each_video_on_y_axis =  360#@param {type:\"integer\"}\n",
        "file_to_save_the_filter_for_the_command = \"filter_script.txt\" #@param {type:\"string\"}\n",
        "output_file_name = \"out.mp4\" #@param {type:\"string\"}\n",
        "\n",
        "import math\n",
        "from google.colab import files\n",
        "\n",
        "def createCommand(inputAmount, videoFileFormat, gridX, gridY, newVidSizeX, newVidSizeY, filterFile, outFile):\n",
        "    \n",
        "    # inputs are formatted here for the command\n",
        "    def createVideoInputs(toAmount, fileFormat):\n",
        "        temp = \"\"\n",
        "        \n",
        "        for i in range(toAmount):\n",
        "            temp += \" -i \" + str(i) + \".\" + fileFormat + \" \"\n",
        "        \n",
        "        return temp\n",
        "     \n",
        "    def createFilter(inputAmount, gridX, gridY, newVidSizeX, newVidSizeY, filterFile):\n",
        "    \n",
        "        filterBaseArg = \" -filter_complex_script \"\n",
        "    \n",
        "        # the resolution is determined by the size of the videos\n",
        "        def defineBase(finalVideoX, finalVideoY, clipsOnX, clipsOnY):\n",
        "            return \" nullsrc=size=\" + str(finalVideoX * clipsOnX) + \"x\" + str(finalVideoY * clipsOnY) + \" [base]; \"\n",
        "\n",
        "        def tagInputs(toAmount, x, y):\n",
        "            \n",
        "            inputs = \"\"\n",
        "            \n",
        "            for i in range(0, toAmount):\n",
        "                inputs += \" [\" + str(i) + \":v] \"\n",
        "                inputs += \" setpts=PTS-STARTPTS, \"\n",
        "                inputs += \" scale=\" + str(x) + \"x\" + str(y) + \" \" \n",
        "                inputs += \" [clip\" + str(i) + \"]; \"\n",
        "            \n",
        "            return inputs\n",
        "\n",
        "\n",
        "        def createVideoOverlays(toAmount, gridX, gridY, vidX, vidY):\n",
        "            \n",
        "            overlays = \" [base][clip0] overlay=shortest=1 [temp1]; \"\n",
        "            \n",
        "            for i in range(1, toAmount):\n",
        "                overlays += \"[temp\" + str(i) + \"][clip\" + str(i) + \"] overlay=shortest=1\"\n",
        "                overlays += (\":x = \" + str((i % gridX) * vidX)) if i % gridX > 0 else \"\"\n",
        "                overlays += (\":y = \" + str(math.floor((i) / gridY) * vidY)) if i >= gridY else \"\"\n",
        "                overlays += \" [temp\" + str(i + 1) + \"]; \" if i != (toAmount - 1) else \"\"\n",
        "                \n",
        "            return overlays\n",
        "            \n",
        "        \n",
        "        tempFile = open(filterFile, \"w\")\n",
        "        \n",
        "        tempFile.write(defineBase(newVidSizeX, newVidSizeY, gridX, gridY) + tagInputs(inputAmount, newVidSizeX, newVidSizeY) + createVideoOverlays(inputAmount, gridX, gridY, newVidSizeX, newVidSizeY))\n",
        "\n",
        "        tempFile.flush()\n",
        "        tempFile.close()\n",
        "        \n",
        "        files.download(filterFile) \n",
        "\n",
        "        return filterBaseArg + \"\\\"\" + filterFile + \"\\\" \"\n",
        "    \n",
        "    def createOutput(outFile):\n",
        "        return \" -c:v libx264 \" + outFile\n",
        "\n",
        "    \n",
        "    return \"ffmpeg \" + createVideoInputs(inputAmount, videoFileFormat) + createFilter(inputAmount, gridX, gridY, newVidSizeX, newVidSizeY, filterFile) + createOutput(outFile)\n",
        "\n",
        "\n",
        "# amount of items in grid\n",
        "# filetype of items\n",
        "# amount of columns on the horizontal axis\n",
        "# amount of rows on the vertical axis\n",
        "# size of each video - x-axis\n",
        "# size of each video - y-axis\n",
        "# file to save the filter for the command\n",
        "# output file name\n",
        "print(createCommand(amount_of_items_in_grid, filetype_of_items, amount_of_columns_on_the_horizontal_axis, amount_of_rows_on_the_vertical_axis, size_of_each_video_on_x_axis, size_of_each_video_on_y_axis, file_to_save_the_filter_for_the_command, output_file_name))\n"
      ]
    }
  ]
}